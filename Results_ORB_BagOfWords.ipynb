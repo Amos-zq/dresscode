{
 "cells": [
  {
   "cell_type": "code",
   "execution_count": 36,
   "metadata": {
    "collapsed": true
   },
   "outputs": [],
   "source": [
    "import numpy as np\n",
    "import matplotlib.pyplot as plt\n",
    "import cv2\n",
    "import cache\n",
    "from sklearn.cluster import KMeans\n",
    "from sklearn.neighbors import NearestNeighbors\n",
    "import data_manager as dm"
   ]
  },
  {
   "cell_type": "markdown",
   "metadata": {},
   "source": [
    "# Bag of Words Based Image Retrieval with ORB Features\n",
    "In order to judge our Neural Features methods we implement the 'old school' approach to our problem.      \n",
    "We collect ORB features on each images, learn a dictionary upon it and acheive retrieval with Bag Of Words technique.    \n",
    "Please find more information on ORB features [here](http://www.dabi.temple.edu/~hbling/Teaching/12S_8543/Presentation/Rublee11ORB.pdf), and more information on BoW techniques [here](https://arxiv.org/abs/1304.5168).    \n",
    "The ORB method will give us 500 32-dimensional feature vectors per image."
   ]
  },
  {
   "cell_type": "markdown",
   "metadata": {},
   "source": [
    "## Getting our Data\n",
    "Please refer to the repo's readme for a complete description of the data we are using.    \n",
    "We collect our catalogue item and queries in dictionnaries where the key is the id present in the files names.\n",
    "As we ignore some of them, id's are not continuous. What we call \"class\" is the corresponding number when only counting the images we kept.    \n",
    "We refer to the dresses catalogue with **cat** and to the set of queries with **quer**."
   ]
  },
  {
   "cell_type": "code",
   "execution_count": 8,
   "metadata": {},
   "outputs": [
    {
     "name": "stdout",
     "output_type": "stream",
     "text": [
      "`db/robes/cat/` id ignored: [26, 2, 50, 53, 89, 110, 120, 127, 131, 144, 167, 159, 190, 142]\n",
      "`db/robes/mod/` id ignored: [26, 2, 50, 53, 89, 110, 120, 127, 131, 144, 167, 159, 190, 142]\n",
      "\n",
      "The database contains 196 query/item pairs such as:\n",
      "\tdb/robes/cat/0_0.jpg\n",
      "\tdb/robes/mod/0.jpg\n"
     ]
    }
   ],
   "source": [
    "# some data is ill-formated, we dont want it\n",
    "to_ignore_file = \"to_ignore.txt\"\n",
    "db_path = 'db/robes/'\n",
    "\n",
    "cat_by_id = dm.get_images_by_id(db_path+'cat/',dm.id_getter_cat,dm.id_select_cat,to_ignore_file)\n",
    "quer_by_id = dm.get_images_by_id(db_path+'mod/',dm.id_getter_quer,dm.id_select_quer,to_ignore_file)\n",
    "\n",
    "class_of_id, id_of_class = dm.get_id_class_correspondance(cat_by_id)\n",
    "print(\"\\nThe database contains \"+str(len(cat_by_id))+\" query/item pairs such as:\\n\\t\"+str(cat_by_id[0])+\"\\n\\t\"+str(quer_by_id[0]))"
   ]
  },
  {
   "cell_type": "markdown",
   "metadata": {},
   "source": [
    "## Orb Features Collection on the Catalogue\n",
    "We compute the set of orb features for each image in the catalogue.    \n",
    "We dump it to a file to avoid calculus when re-using the notebook.  "
   ]
  },
  {
   "cell_type": "code",
   "execution_count": 9,
   "metadata": {
    "collapsed": true
   },
   "outputs": [],
   "source": [
    "orb = cv2.ORB_create()"
   ]
  },
  {
   "cell_type": "code",
   "execution_count": 13,
   "metadata": {
    "collapsed": true
   },
   "outputs": [],
   "source": [
    "def compute_ORB_features(img_set):\n",
    "    '''\n",
    "        Routine to extract orb features for any image set, that is\n",
    "        a dictionary id -> image_path.\n",
    "        Returns a dictionary id -> list of features.\n",
    "    '''\n",
    "    to_return = {}\n",
    "    for id_ in img_set:\n",
    "        gray = dm.img_getter_gray(img_set[id_])\n",
    "        kp, des = orb.detectAndCompute(gray,None)\n",
    "        to_return[id_] = des\n",
    "    return to_return"
   ]
  },
  {
   "cell_type": "code",
   "execution_count": 14,
   "metadata": {},
   "outputs": [
    {
     "name": "stdout",
     "output_type": "stream",
     "text": [
      "opening db/robes/cat/0_0.jpg\n",
      "opening db/robes/cat/1_0.jpg\n",
      "opening db/robes/cat/3_0.jpg\n",
      "opening db/robes/cat/4_0.jpg\n",
      "...\n",
      "opening db/robes/cat/209_0.jpg\n",
      "- Data saved to cache-file: dumps/cat_ORB_per_id.dump\n"
     ]
    }
   ],
   "source": [
    "cat_ORB_per_id = cache.cache(\"dumps/cat_ORB_per_id.dump\",compute_ORB_features,cat_by_id)"
   ]
  },
  {
   "cell_type": "markdown",
   "metadata": {},
   "source": [
    "For instance, the ORB feature vector of catalogue image 0 are:"
   ]
  },
  {
   "cell_type": "code",
   "execution_count": 16,
   "metadata": {},
   "outputs": [
    {
     "name": "stdout",
     "output_type": "stream",
     "text": [
      "[[220  11 200 ..., 245  15 128]\n",
      " [240  96 247 ..., 184  70  43]\n",
      " [173 201 100 ..., 130 226 224]\n",
      " ..., \n",
      " [ 40 102 147 ..., 248  95 168]\n",
      " [ 54 104 145 ...,   3   6 166]\n",
      " [231  57  37 ..., 101 167 245]]\n",
      "(500, 32)\n"
     ]
    }
   ],
   "source": [
    "print(cat_ORB_per_id[0])\n",
    "print(cat_ORB_per_id[0].shape)"
   ]
  },
  {
   "cell_type": "markdown",
   "metadata": {},
   "source": [
    "### Numpy Matrix\n",
    "We aggregate all the features of all the images in one big matrix.    "
   ]
  },
  {
   "cell_type": "code",
   "execution_count": 18,
   "metadata": {},
   "outputs": [
    {
     "name": "stdout",
     "output_type": "stream",
     "text": [
      "(97012, 32)\n"
     ]
    }
   ],
   "source": [
    "all_ORB = cat_ORB_per_id[0]\n",
    "for id_ in cat_ORB_per_id:\n",
    "    if id_ == 0:\n",
    "        continue\n",
    "    all_ORB = np.r_[all_ORB, cat_ORB_per_id[id_]]\n",
    "print(all_ORB.shape)"
   ]
  },
  {
   "cell_type": "markdown",
   "metadata": {},
   "source": [
    "## Dictionary Learning\n",
    "We then aggregate our 97012 feature vectors into 2048 clusters with k-means. 2048 was chosen to mimic the dimension of our Neural Features. Even with 12 processors this process is quite long (12m). We dump the resulting clusters even if they would be different at each run.   \n",
    "### K-means Aggregation"
   ]
  },
  {
   "cell_type": "code",
   "execution_count": 22,
   "metadata": {},
   "outputs": [
    {
     "name": "stdout",
     "output_type": "stream",
     "text": [
      "center shift 0.000000e+00 within tolerance 5.476140e-01\n",
      "- Data saved to cache-file: dumps/cat_ORB_2048_kmeans.dump\n",
      "CPU times: user 2.84 s, sys: 1.03 s, total: 3.87 s\n",
      "Wall time: 11min 49s\n"
     ]
    }
   ],
   "source": [
    "%%time\n",
    "kmeans = KMeans(n_clusters=2048,n_jobs=12,verbose=10)\n",
    "kmeans_result = cache.cache(\"dumps/cat_ORB_2048_kmeans.dump\", kmeans.fit, all_ORB)"
   ]
  },
  {
   "cell_type": "markdown",
   "metadata": {},
   "source": [
    "### Dictionary Creation\n",
    "For each of our image, we compute a visual histogram out of its ORB features. It consists in calculating an histogram of the clusters to which these features belong to."
   ]
  },
  {
   "cell_type": "code",
   "execution_count": 24,
   "metadata": {
    "collapsed": true
   },
   "outputs": [],
   "source": [
    "def get_visual_hist(kmeans,orb_descs):\n",
    "    '''\n",
    "        Routine to extract a 'visual histogram', that is \n",
    "        a #cluster-dimensional histogram vector, out of a set \n",
    "        of orb descriptors.\n",
    "    '''\n",
    "    list_cluster = []\n",
    "    list_cluster = kmeans.predict(orb_descs)\n",
    "    hist = np.zeros(kmeans.n_clusters)\n",
    "    for a in list_cluster:\n",
    "        hist[a] += 1\n",
    "    return hist.astype(int)"
   ]
  },
  {
   "cell_type": "code",
   "execution_count": 27,
   "metadata": {},
   "outputs": [
    {
     "name": "stdout",
     "output_type": "stream",
     "text": [
      "CPU times: user 6.99 s, sys: 30.8 s, total: 37.8 s\n",
      "Wall time: 2.38 s\n"
     ]
    }
   ],
   "source": [
    "%%time\n",
    "cat_ORB_dict = {}\n",
    "for id_ in cat_by_id:\n",
    "    cat_ORB_dict[id_] = get_visual_hist(kmeans,cat_ORB_per_id[id_])"
   ]
  },
  {
   "cell_type": "markdown",
   "metadata": {
    "collapsed": true
   },
   "source": [
    "For instance here's a visualization of the final feature vector of image 0:"
   ]
  },
  {
   "cell_type": "code",
   "execution_count": 51,
   "metadata": {},
   "outputs": [
    {
     "data": {
      "image/png": "[encoded data removed]",
      "text/plain": [
       "<matplotlib.figure.Figure at 0x7f62b8e622e8>"
      ]
     },
     "metadata": {},
     "output_type": "display_data"
    }
   ],
   "source": [
    "plt.figure(figsize=(15,5))\n",
    "im = plt.imshow(cat_ORB_dict[0].reshape((2**5,2**6)))\n",
    "plt.colorbar(im)\n",
    "plt.show()"
   ]
  },
  {
   "cell_type": "markdown",
   "metadata": {},
   "source": [
    "### Numpy Matrix\n",
    "We merge our final dictionary into a np matrix."
   ]
  },
  {
   "cell_type": "code",
   "execution_count": 56,
   "metadata": {},
   "outputs": [
    {
     "name": "stdout",
     "output_type": "stream",
     "text": [
      "(196, 2048)\n"
     ]
    }
   ],
   "source": [
    "cat_ORB_dict_np = [cat_ORB_dict[0]]\n",
    "for id_ in cat_ORB_dict:\n",
    "    if id_ == 0:\n",
    "        continue\n",
    "    cat_ORB_dict_np = np.r_[cat_ORB_dict_np, [cat_ORB_dict[id_]]]\n",
    "print(cat_ORB_dict_np.shape)"
   ]
  },
  {
   "cell_type": "markdown",
   "metadata": {},
   "source": [
    "## Retrieval\n",
    "### Computing ORB Features on Queries"
   ]
  },
  {
   "cell_type": "code",
   "execution_count": 52,
   "metadata": {},
   "outputs": [
    {
     "name": "stdout",
     "output_type": "stream",
     "text": [
      "opening db/robes/mod/0.jpg\n",
      "opening db/robes/mod/1.jpg\n",
      "opening db/robes/mod/3.jpg\n",
      "opening db/robes/mod/4.jpg\n",
      "...opening db/robes/mod/209.jpg\n",
      "- Data saved to cache-file: dumps/quer_ORB_per_id.dump\n"
     ]
    }
   ],
   "source": [
    "quer_ORB_per_id = cache.cache(\"dumps/quer_ORB_per_id.dump\",compute_ORB_features,quer_by_id)"
   ]
  },
  {
   "cell_type": "markdown",
   "metadata": {},
   "source": [
    "### 10-Nearset Neighbours Model\n",
    "We construct a 10-NN model over our catalogue dictionary in order to proceed with retrieval and compute 10-accuracy score."
   ]
  },
  {
   "cell_type": "code",
   "execution_count": 57,
   "metadata": {
    "collapsed": true
   },
   "outputs": [],
   "source": [
    "ten_nbrs = NearestNeighbors(n_neighbors=10).fit(cat_ORB_dict_np)"
   ]
  },
  {
   "cell_type": "markdown",
   "metadata": {},
   "source": [
    "# Results"
   ]
  },
  {
   "cell_type": "code",
   "execution_count": 60,
   "metadata": {},
   "outputs": [
    {
     "name": "stdout",
     "output_type": "stream",
     "text": [
      "10-accuracy score: 0.25510204081632654\n"
     ]
    }
   ],
   "source": [
    "success = 0\n",
    "for id_ in quer_ORB_per_id:\n",
    "    quer_visual_hist = get_visual_hist(kmeans_result,quer_ORB_per_id[id_])\n",
    "    distances,indices = ten_nbrs.kneighbors([quer_visual_hist])\n",
    "    success += class_of_id[id_] in indices[0]\n",
    "print(\"10-accuracy score:\",success/len(quer_ORB_per_id))"
   ]
  },
  {
   "cell_type": "markdown",
   "metadata": {},
   "source": [
    "The traditionnal Bag Of Word method achieves a **25% success rate**."
   ]
  }
 ],
 "metadata": {
  "kernelspec": {
   "display_name": "Python 3",
   "language": "python",
   "name": "python3"
  },
  "language_info": {
   "codemirror_mode": {
    "name": "ipython",
    "version": 3
   },
   "file_extension": ".py",
   "mimetype": "text/x-python",
   "name": "python",
   "nbconvert_exporter": "python",
   "pygments_lexer": "ipython3",
   "version": "3.6.1"
  }
 },
 "nbformat": 4,
 "nbformat_minor": 2
}
